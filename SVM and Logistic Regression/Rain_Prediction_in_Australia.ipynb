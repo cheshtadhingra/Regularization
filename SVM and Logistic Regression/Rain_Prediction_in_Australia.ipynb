{
  "nbformat": 4,
  "nbformat_minor": 0,
  "metadata": {
    "kernelspec": {
      "display_name": "Python 3",
      "language": "python",
      "name": "python3"
    },
    "language_info": {
      "codemirror_mode": {
        "name": "ipython",
        "version": 3
      },
      "file_extension": ".py",
      "mimetype": "text/x-python",
      "name": "python",
      "nbconvert_exporter": "python",
      "pygments_lexer": "ipython3",
      "version": "3.8.5"
    },
    "colab": {
      "name": "Rain Prediction in Australia.ipynb",
      "provenance": []
    }
  },
  "cells": [
    {
      "cell_type": "markdown",
      "metadata": {
        "id": "vziCwtYSvpav"
      },
      "source": [
        "<br>\n",
        "<h1 style = \"font-size:30px; font-family:monospace ; font-weight : bold; color : #AE0052; text-align: center; border-radius: 10px 10px;\">☔Rain Prediction in Australia☔</h1>\n",
        "<br>"
      ]
    },
    {
      "cell_type": "markdown",
      "metadata": {
        "id": "qrhh_RHuvpav"
      },
      "source": [
        "![](https://media0.giphy.com/media/tkMeNtj9FQYx2/giphy.gif)"
      ]
    },
    {
      "cell_type": "markdown",
      "metadata": {
        "id": "mRQUWnirvpaw"
      },
      "source": [
        "<span style=\"font-size:20px;color:#0026D8;font-weight : bold\">Dataset Description:</span>\n",
        "\n",
        "**This dataset contains daily weather observations from numerous Australian weather stations.**\n",
        "- **Date** - The date of observation<br>\n",
        "- **Location** - The common name of the location of the weather station<br>\n",
        "- **MinTemp** - The minimum temperature in degrees celsius<br>\n",
        "- **MaxTemp** - The maximum temperature in degrees celsius<br>\n",
        "- **Rainfall** - The amount of rainfall recorded for the day in mm<br>\n",
        "- **Evaporation** - The so-called Class A pan evaporation (mm) in the 24 hours to 9am<br>\n",
        "- **Sunshine** - The number of hours of bright sunshine in the day.<br>\n",
        "- **WindGustDir** - The direction of the strongest wind gust in the 24 hours to midnight<br>\n",
        "- **WindGustSpeed** - The speed (km/h) of the strongest wind gust in the 24 hours to midnight<br>\n",
        "- **WindDir9am** - Direction of the wind at 9am<br>\n",
        "- **WindDir3pm** - Direction of the wind at 3pm<br>\n",
        "- **WindSpeed9am** - Wind speed (km/hr) averaged over 10 minutes prior to 9am<br>\n",
        "- **WindSpeed3pm** - Wind speed (km/hr) averaged over 10 minutes prior to 3pm<br>\n",
        "- **Humidity9am** - Humidity (percent) at 9am<br>\n",
        "- **Humidity3pm** - Humidity (percent) at 3pm<br>\n",
        "- **Pressure9am** - Atmospheric pressure (hpa) reduced to mean sea level at 9am<br>\n",
        "- **Pressure3pm** - Atmospheric pressure (hpa) reduced to mean sea level at 3pm<br>\n",
        "- **Cloud9am** - Fraction of sky obscured by cloud at 9am. This is measured in \"oktas\", which are a unit of                    eigths. It records how many eigths of the sky are obscured by cloud. A 0 measure indicates                    completely clear sky whilst an 8 indicates that it is completely overcast.<br>\n",
        "- **Cloud3pm** - Fraction of sky obscured by cloud (in \"oktas\": eighths) at 3pm. See Cload9am for a description                of the values<br>\n",
        "- **Temp9am** - Temperature (degrees C) at 9am<br>\n",
        "- **Temp3pm** - Temperature (degrees C) at 3pm<br>\n",
        "- **RainToday** - Boolean: 1 if precipitation (mm) in the 24 hours to 9am exceeds 1mm, otherwise 0<br>\n",
        "- **RainTomorrow** - The target variable. Will it rain tomorrow?"
      ]
    },
    {
      "cell_type": "markdown",
      "metadata": {
        "id": "rsH1_6fPvpaw"
      },
      "source": [
        "### It is highly recommended to read the documentation before implementing any alogorithm."
      ]
    },
    {
      "cell_type": "markdown",
      "metadata": {
        "id": "tEcIZ5qdvpax"
      },
      "source": [
        "- **Logistic Regression** : https://scikit-learn.org/stable/modules/generated/sklearn.linear_model.LogisticRegression.html <br>\n",
        "- **SVM** : https://scikit-learn.org/stable/modules/svm.html <br>\n",
        "- **Confusion Matrix** : https://scikit-learn.org/stable/modules/generated/sklearn.metrics.confusion_matrix.html <br>\n",
        "- **Plot Confusion Matrix** : https://scikit-learn.org/stable/modules/generated/sklearn.metrics.plot_confusion_matrix.html <br>\n",
        "- **ROC_AUC Score** : https://scikit-learn.org/stable/modules/generated/sklearn.metrics.roc_auc_score.html#sklearn.metrics.roc_auc_score <br>\n",
        "- **Classification Report** : https://scikit-learn.org/stable/modules/generated/sklearn.metrics.classification_report.html <br>\n",
        "- **Label Encoder** : https://scikit-learn.org/stable/modules/generated/sklearn.preprocessing.LabelEncoder.html <br>\n",
        "- **Label Binarizer** : https://scikit-learn.org/stable/modules/generated/sklearn.preprocessing.LabelBinarizer.html <br>\n",
        "- **Standard Scaler** : https://scikit-learn.org/stable/modules/generated/sklearn.preprocessing.StandardScaler.html <br>\n",
        "- **Cross Val Score** : https://scikit-learn.org/stable/modules/generated/sklearn.model_selection.cross_val_score.html <br>\n",
        "\n"
      ]
    },
    {
      "cell_type": "code",
      "metadata": {
        "id": "1_Q5m8Xmvpax",
        "outputId": "bcf5a3d7-f618-4267-eb84-1e625d7919e2",
        "colab": {
          "base_uri": "https://localhost:8080/",
          "height": 17
        }
      },
      "source": [
        "## ======== Run this Cell as it is======== ##\n",
        "\n",
        "from IPython.display import HTML\n",
        "HTML(\"\"\"\n",
        "<style>\n",
        "h1,h2,h3 {\n",
        "\tmargin: 1em 0 0.5em 0;\n",
        "\tfont-weight: 600;\n",
        "\tfont-family: 'Titillium Web', sans-serif;\n",
        "\tposition: relative;  \n",
        "\tfont-size: 36px;\n",
        "\tline-height: 40px;\n",
        "\tpadding: 15px 15px 15px 2.5%;\n",
        "\tcolor: #13003A;\n",
        "\tbox-shadow: \n",
        "\t\tinset 0 0 0 1px rgba(53,86,129, 1), \n",
        "\t\tinset 0 0 5px rgba(53,86,129, 1),\n",
        "\t\tinset -285px 0 35px white;\n",
        "\tborder-radius: 0 10px 0 15px;\n",
        "\tbackground: #fff\n",
        "    \n",
        "}\n",
        "</style>\n",
        "\"\"\")\n",
        "\n",
        "\n",
        "## ================================ ##"
      ],
      "execution_count": 14,
      "outputs": [
        {
          "output_type": "execute_result",
          "data": {
            "text/html": [
              "\n",
              "<style>\n",
              "h1,h2,h3 {\n",
              "\tmargin: 1em 0 0.5em 0;\n",
              "\tfont-weight: 600;\n",
              "\tfont-family: 'Titillium Web', sans-serif;\n",
              "\tposition: relative;  \n",
              "\tfont-size: 36px;\n",
              "\tline-height: 40px;\n",
              "\tpadding: 15px 15px 15px 2.5%;\n",
              "\tcolor: #13003A;\n",
              "\tbox-shadow: \n",
              "\t\tinset 0 0 0 1px rgba(53,86,129, 1), \n",
              "\t\tinset 0 0 5px rgba(53,86,129, 1),\n",
              "\t\tinset -285px 0 35px white;\n",
              "\tborder-radius: 0 10px 0 15px;\n",
              "\tbackground: #fff\n",
              "    \n",
              "}\n",
              "</style>\n"
            ],
            "text/plain": [
              "<IPython.core.display.HTML object>"
            ]
          },
          "metadata": {},
          "execution_count": 14
        }
      ]
    },
    {
      "cell_type": "markdown",
      "metadata": {
        "id": "tQG2K5CQvpaz"
      },
      "source": [
        "<h1 style=\"background-color:#ABFF9B;font-size:20px;color:#00033E;font-weight : bold\">✅ Importing Required Libraries</h1>"
      ]
    },
    {
      "cell_type": "code",
      "metadata": {
        "id": "DHyUvB8tvpa0"
      },
      "source": [
        "## ======== YOUR CODE HERE ======== ##\n",
        "\n",
        "## Import numpy, pandas, matplotlib, seaborn\n",
        "import numpy as np\n",
        "import pandas as pd\n",
        "import matplotlib.pyplot as plt\n",
        "import seaborn as sns\n",
        "\n",
        "## Import Logistic regression and SVC\n",
        "from sklearn.linear_model import LogisticRegression\n",
        "from sklearn.svm import SVC\n",
        "\n",
        "\n",
        "\n",
        "## Import Confusion matrix, plot confusion matrix, classification report, accuracy score, auc-roc score and roc curve\n",
        "from sklearn.metrics import confusion_matrix, plot_confusion_matrix, classification_report, accuracy_score, roc_auc_score, roc_curve\n",
        "\n",
        "\n",
        "## Import Label encoder, label binarizer and Standard Scaler\n",
        "from sklearn.preprocessing import LabelEncoder, LabelBinarizer, StandardScaler\n",
        "\n",
        "## ================================ ##\n",
        "\n",
        "from sklearn.model_selection import train_test_split\n",
        "from sklearn.model_selection import cross_val_score\n",
        "import warnings\n",
        "warnings.filterwarnings(\"ignore\")"
      ],
      "execution_count": 15,
      "outputs": []
    },
    {
      "cell_type": "markdown",
      "metadata": {
        "id": "r-tHNg8qvpa0"
      },
      "source": [
        "<h1 style=\"background-color:#ABFF9B;font-size:20px;color:#00033E;font-weight : bold\">Read the data </h1>"
      ]
    },
    {
      "cell_type": "code",
      "metadata": {
        "id": "m-owrU7vvpa0"
      },
      "source": [
        "\n",
        "## ======== YOUR CODE HERE ======== ##\n",
        "\n",
        "df = pd.read_csv('/content/SA2021_W3_Data.csv')\n",
        "\n",
        "## ================================ ##"
      ],
      "execution_count": 16,
      "outputs": []
    },
    {
      "cell_type": "code",
      "metadata": {
        "id": "mxownAh7vpa1",
        "colab": {
          "base_uri": "https://localhost:8080/"
        },
        "outputId": "a6578c2d-33b6-4f0c-f06a-9502039edeff"
      },
      "source": [
        "## Check the shape of data. It should be (24196,23)\n",
        "\n",
        "## ======== YOUR CODE HERE ======== ##\n",
        "df.shape\n",
        "\n",
        "## ================================ ##"
      ],
      "execution_count": 17,
      "outputs": [
        {
          "output_type": "execute_result",
          "data": {
            "text/plain": [
              "(24196, 23)"
            ]
          },
          "metadata": {},
          "execution_count": 17
        }
      ]
    },
    {
      "cell_type": "code",
      "metadata": {
        "id": "sMBhA4H3vpa1",
        "colab": {
          "base_uri": "https://localhost:8080/",
          "height": 364
        },
        "outputId": "db6c632e-3319-4046-b515-b6478edd8b20"
      },
      "source": [
        "## Apply describe on dataframe\n",
        "\n",
        "## ======== YOUR CODE HERE ======== ##\n",
        "df.describe()\n",
        "## ================================ ##"
      ],
      "execution_count": 18,
      "outputs": [
        {
          "output_type": "execute_result",
          "data": {
            "text/html": [
              "\n",
              "  <div id=\"df-d07ad4d1-9897-4c2a-961d-586d03023284\">\n",
              "    <div class=\"colab-df-container\">\n",
              "      <div>\n",
              "<style scoped>\n",
              "    .dataframe tbody tr th:only-of-type {\n",
              "        vertical-align: middle;\n",
              "    }\n",
              "\n",
              "    .dataframe tbody tr th {\n",
              "        vertical-align: top;\n",
              "    }\n",
              "\n",
              "    .dataframe thead th {\n",
              "        text-align: right;\n",
              "    }\n",
              "</style>\n",
              "<table border=\"1\" class=\"dataframe\">\n",
              "  <thead>\n",
              "    <tr style=\"text-align: right;\">\n",
              "      <th></th>\n",
              "      <th>Date</th>\n",
              "      <th>Location</th>\n",
              "      <th>MinTemp</th>\n",
              "      <th>MaxTemp</th>\n",
              "      <th>Rainfall</th>\n",
              "      <th>Evaporation</th>\n",
              "      <th>Sunshine</th>\n",
              "      <th>WindGustDir</th>\n",
              "      <th>WindGustSpeed</th>\n",
              "      <th>WindDir9am</th>\n",
              "      <th>WindDir3pm</th>\n",
              "      <th>WindSpeed9am</th>\n",
              "      <th>WindSpeed3pm</th>\n",
              "      <th>Humidity9am</th>\n",
              "      <th>Humidity3pm</th>\n",
              "      <th>Pressure9am</th>\n",
              "      <th>Pressure3pm</th>\n",
              "      <th>Cloud9am</th>\n",
              "      <th>Cloud3pm</th>\n",
              "      <th>Temp9am</th>\n",
              "      <th>Temp3pm</th>\n",
              "      <th>RainToday</th>\n",
              "      <th>RainTomorrow</th>\n",
              "    </tr>\n",
              "  </thead>\n",
              "  <tbody>\n",
              "    <tr>\n",
              "      <th>count</th>\n",
              "      <td>24196.000000</td>\n",
              "      <td>24196.000000</td>\n",
              "      <td>24196.000000</td>\n",
              "      <td>24196.000000</td>\n",
              "      <td>24196.000000</td>\n",
              "      <td>24196.000000</td>\n",
              "      <td>24196.000000</td>\n",
              "      <td>24196.000000</td>\n",
              "      <td>24196.000000</td>\n",
              "      <td>24196.000000</td>\n",
              "      <td>24196.000000</td>\n",
              "      <td>24196.000000</td>\n",
              "      <td>24196.000000</td>\n",
              "      <td>24196.000000</td>\n",
              "      <td>24196.000000</td>\n",
              "      <td>24196.000000</td>\n",
              "      <td>24196.000000</td>\n",
              "      <td>24196.000000</td>\n",
              "      <td>24196.000000</td>\n",
              "      <td>24196.000000</td>\n",
              "      <td>24196.000000</td>\n",
              "      <td>24196.000000</td>\n",
              "      <td>24196.000000</td>\n",
              "    </tr>\n",
              "    <tr>\n",
              "      <th>mean</th>\n",
              "      <td>1702.554430</td>\n",
              "      <td>11.126880</td>\n",
              "      <td>13.281232</td>\n",
              "      <td>23.124078</td>\n",
              "      <td>3.008857</td>\n",
              "      <td>5.114329</td>\n",
              "      <td>6.700591</td>\n",
              "      <td>7.752273</td>\n",
              "      <td>42.371880</td>\n",
              "      <td>7.315424</td>\n",
              "      <td>7.698504</td>\n",
              "      <td>16.106175</td>\n",
              "      <td>20.245206</td>\n",
              "      <td>69.505621</td>\n",
              "      <td>55.335345</td>\n",
              "      <td>1016.774682</td>\n",
              "      <td>1014.508518</td>\n",
              "      <td>4.767152</td>\n",
              "      <td>4.926682</td>\n",
              "      <td>17.609216</td>\n",
              "      <td>21.493420</td>\n",
              "      <td>0.293396</td>\n",
              "      <td>0.453918</td>\n",
              "    </tr>\n",
              "    <tr>\n",
              "      <th>std</th>\n",
              "      <td>837.645705</td>\n",
              "      <td>6.397324</td>\n",
              "      <td>6.084032</td>\n",
              "      <td>6.681013</td>\n",
              "      <td>8.399269</td>\n",
              "      <td>3.549384</td>\n",
              "      <td>3.958287</td>\n",
              "      <td>4.788052</td>\n",
              "      <td>14.221336</td>\n",
              "      <td>4.634019</td>\n",
              "      <td>4.738448</td>\n",
              "      <td>8.658300</td>\n",
              "      <td>8.968817</td>\n",
              "      <td>17.671186</td>\n",
              "      <td>20.907040</td>\n",
              "      <td>6.987625</td>\n",
              "      <td>6.877345</td>\n",
              "      <td>2.741416</td>\n",
              "      <td>2.586083</td>\n",
              "      <td>6.189396</td>\n",
              "      <td>6.535474</td>\n",
              "      <td>0.455328</td>\n",
              "      <td>0.497882</td>\n",
              "    </tr>\n",
              "    <tr>\n",
              "      <th>min</th>\n",
              "      <td>0.000000</td>\n",
              "      <td>0.000000</td>\n",
              "      <td>-4.700000</td>\n",
              "      <td>4.100000</td>\n",
              "      <td>0.000000</td>\n",
              "      <td>0.000000</td>\n",
              "      <td>0.000000</td>\n",
              "      <td>0.000000</td>\n",
              "      <td>9.000000</td>\n",
              "      <td>0.000000</td>\n",
              "      <td>0.000000</td>\n",
              "      <td>2.000000</td>\n",
              "      <td>2.000000</td>\n",
              "      <td>3.000000</td>\n",
              "      <td>0.000000</td>\n",
              "      <td>980.500000</td>\n",
              "      <td>979.000000</td>\n",
              "      <td>0.000000</td>\n",
              "      <td>0.000000</td>\n",
              "      <td>-0.700000</td>\n",
              "      <td>3.700000</td>\n",
              "      <td>0.000000</td>\n",
              "      <td>0.000000</td>\n",
              "    </tr>\n",
              "    <tr>\n",
              "      <th>25%</th>\n",
              "      <td>984.000000</td>\n",
              "      <td>6.000000</td>\n",
              "      <td>8.600000</td>\n",
              "      <td>17.900000</td>\n",
              "      <td>0.000000</td>\n",
              "      <td>2.400000</td>\n",
              "      <td>3.400000</td>\n",
              "      <td>3.000000</td>\n",
              "      <td>31.000000</td>\n",
              "      <td>3.000000</td>\n",
              "      <td>3.000000</td>\n",
              "      <td>9.000000</td>\n",
              "      <td>13.000000</td>\n",
              "      <td>58.000000</td>\n",
              "      <td>41.000000</td>\n",
              "      <td>1012.200000</td>\n",
              "      <td>1009.900000</td>\n",
              "      <td>2.000000</td>\n",
              "      <td>3.000000</td>\n",
              "      <td>12.700000</td>\n",
              "      <td>16.500000</td>\n",
              "      <td>0.000000</td>\n",
              "      <td>0.000000</td>\n",
              "    </tr>\n",
              "    <tr>\n",
              "      <th>50%</th>\n",
              "      <td>1651.000000</td>\n",
              "      <td>11.000000</td>\n",
              "      <td>13.100000</td>\n",
              "      <td>22.700000</td>\n",
              "      <td>0.000000</td>\n",
              "      <td>4.400000</td>\n",
              "      <td>7.200000</td>\n",
              "      <td>8.000000</td>\n",
              "      <td>41.000000</td>\n",
              "      <td>7.000000</td>\n",
              "      <td>8.000000</td>\n",
              "      <td>15.000000</td>\n",
              "      <td>19.000000</td>\n",
              "      <td>70.000000</td>\n",
              "      <td>56.000000</td>\n",
              "      <td>1016.800000</td>\n",
              "      <td>1014.400000</td>\n",
              "      <td>6.000000</td>\n",
              "      <td>6.000000</td>\n",
              "      <td>17.300000</td>\n",
              "      <td>21.100000</td>\n",
              "      <td>0.000000</td>\n",
              "      <td>0.000000</td>\n",
              "    </tr>\n",
              "    <tr>\n",
              "      <th>75%</th>\n",
              "      <td>2381.000000</td>\n",
              "      <td>17.000000</td>\n",
              "      <td>18.000000</td>\n",
              "      <td>28.100000</td>\n",
              "      <td>1.800000</td>\n",
              "      <td>7.000000</td>\n",
              "      <td>10.000000</td>\n",
              "      <td>12.000000</td>\n",
              "      <td>50.000000</td>\n",
              "      <td>11.000000</td>\n",
              "      <td>12.000000</td>\n",
              "      <td>20.000000</td>\n",
              "      <td>26.000000</td>\n",
              "      <td>83.000000</td>\n",
              "      <td>70.000000</td>\n",
              "      <td>1021.400000</td>\n",
              "      <td>1019.000000</td>\n",
              "      <td>7.000000</td>\n",
              "      <td>7.000000</td>\n",
              "      <td>22.300000</td>\n",
              "      <td>26.200000</td>\n",
              "      <td>1.000000</td>\n",
              "      <td>1.000000</td>\n",
              "    </tr>\n",
              "    <tr>\n",
              "      <th>max</th>\n",
              "      <td>3415.000000</td>\n",
              "      <td>22.000000</td>\n",
              "      <td>31.400000</td>\n",
              "      <td>46.800000</td>\n",
              "      <td>206.200000</td>\n",
              "      <td>59.800000</td>\n",
              "      <td>14.500000</td>\n",
              "      <td>15.000000</td>\n",
              "      <td>122.000000</td>\n",
              "      <td>15.000000</td>\n",
              "      <td>15.000000</td>\n",
              "      <td>65.000000</td>\n",
              "      <td>76.000000</td>\n",
              "      <td>100.000000</td>\n",
              "      <td>100.000000</td>\n",
              "      <td>1040.200000</td>\n",
              "      <td>1037.000000</td>\n",
              "      <td>8.000000</td>\n",
              "      <td>9.000000</td>\n",
              "      <td>39.400000</td>\n",
              "      <td>46.100000</td>\n",
              "      <td>1.000000</td>\n",
              "      <td>1.000000</td>\n",
              "    </tr>\n",
              "  </tbody>\n",
              "</table>\n",
              "</div>\n",
              "      <button class=\"colab-df-convert\" onclick=\"convertToInteractive('df-d07ad4d1-9897-4c2a-961d-586d03023284')\"\n",
              "              title=\"Convert this dataframe to an interactive table.\"\n",
              "              style=\"display:none;\">\n",
              "        \n",
              "  <svg xmlns=\"http://www.w3.org/2000/svg\" height=\"24px\"viewBox=\"0 0 24 24\"\n",
              "       width=\"24px\">\n",
              "    <path d=\"M0 0h24v24H0V0z\" fill=\"none\"/>\n",
              "    <path d=\"M18.56 5.44l.94 2.06.94-2.06 2.06-.94-2.06-.94-.94-2.06-.94 2.06-2.06.94zm-11 1L8.5 8.5l.94-2.06 2.06-.94-2.06-.94L8.5 2.5l-.94 2.06-2.06.94zm10 10l.94 2.06.94-2.06 2.06-.94-2.06-.94-.94-2.06-.94 2.06-2.06.94z\"/><path d=\"M17.41 7.96l-1.37-1.37c-.4-.4-.92-.59-1.43-.59-.52 0-1.04.2-1.43.59L10.3 9.45l-7.72 7.72c-.78.78-.78 2.05 0 2.83L4 21.41c.39.39.9.59 1.41.59.51 0 1.02-.2 1.41-.59l7.78-7.78 2.81-2.81c.8-.78.8-2.07 0-2.86zM5.41 20L4 18.59l7.72-7.72 1.47 1.35L5.41 20z\"/>\n",
              "  </svg>\n",
              "      </button>\n",
              "      \n",
              "  <style>\n",
              "    .colab-df-container {\n",
              "      display:flex;\n",
              "      flex-wrap:wrap;\n",
              "      gap: 12px;\n",
              "    }\n",
              "\n",
              "    .colab-df-convert {\n",
              "      background-color: #E8F0FE;\n",
              "      border: none;\n",
              "      border-radius: 50%;\n",
              "      cursor: pointer;\n",
              "      display: none;\n",
              "      fill: #1967D2;\n",
              "      height: 32px;\n",
              "      padding: 0 0 0 0;\n",
              "      width: 32px;\n",
              "    }\n",
              "\n",
              "    .colab-df-convert:hover {\n",
              "      background-color: #E2EBFA;\n",
              "      box-shadow: 0px 1px 2px rgba(60, 64, 67, 0.3), 0px 1px 3px 1px rgba(60, 64, 67, 0.15);\n",
              "      fill: #174EA6;\n",
              "    }\n",
              "\n",
              "    [theme=dark] .colab-df-convert {\n",
              "      background-color: #3B4455;\n",
              "      fill: #D2E3FC;\n",
              "    }\n",
              "\n",
              "    [theme=dark] .colab-df-convert:hover {\n",
              "      background-color: #434B5C;\n",
              "      box-shadow: 0px 1px 3px 1px rgba(0, 0, 0, 0.15);\n",
              "      filter: drop-shadow(0px 1px 2px rgba(0, 0, 0, 0.3));\n",
              "      fill: #FFFFFF;\n",
              "    }\n",
              "  </style>\n",
              "\n",
              "      <script>\n",
              "        const buttonEl =\n",
              "          document.querySelector('#df-d07ad4d1-9897-4c2a-961d-586d03023284 button.colab-df-convert');\n",
              "        buttonEl.style.display =\n",
              "          google.colab.kernel.accessAllowed ? 'block' : 'none';\n",
              "\n",
              "        async function convertToInteractive(key) {\n",
              "          const element = document.querySelector('#df-d07ad4d1-9897-4c2a-961d-586d03023284');\n",
              "          const dataTable =\n",
              "            await google.colab.kernel.invokeFunction('convertToInteractive',\n",
              "                                                     [key], {});\n",
              "          if (!dataTable) return;\n",
              "\n",
              "          const docLinkHtml = 'Like what you see? Visit the ' +\n",
              "            '<a target=\"_blank\" href=https://colab.research.google.com/notebooks/data_table.ipynb>data table notebook</a>'\n",
              "            + ' to learn more about interactive tables.';\n",
              "          element.innerHTML = '';\n",
              "          dataTable['output_type'] = 'display_data';\n",
              "          await google.colab.output.renderOutput(dataTable, element);\n",
              "          const docLink = document.createElement('div');\n",
              "          docLink.innerHTML = docLinkHtml;\n",
              "          element.appendChild(docLink);\n",
              "        }\n",
              "      </script>\n",
              "    </div>\n",
              "  </div>\n",
              "  "
            ],
            "text/plain": [
              "               Date      Location  ...     RainToday  RainTomorrow\n",
              "count  24196.000000  24196.000000  ...  24196.000000  24196.000000\n",
              "mean    1702.554430     11.126880  ...      0.293396      0.453918\n",
              "std      837.645705      6.397324  ...      0.455328      0.497882\n",
              "min        0.000000      0.000000  ...      0.000000      0.000000\n",
              "25%      984.000000      6.000000  ...      0.000000      0.000000\n",
              "50%     1651.000000     11.000000  ...      0.000000      0.000000\n",
              "75%     2381.000000     17.000000  ...      1.000000      1.000000\n",
              "max     3415.000000     22.000000  ...      1.000000      1.000000\n",
              "\n",
              "[8 rows x 23 columns]"
            ]
          },
          "metadata": {},
          "execution_count": 18
        }
      ]
    },
    {
      "cell_type": "code",
      "source": [
        "df.fillna(0)"
      ],
      "metadata": {
        "colab": {
          "base_uri": "https://localhost:8080/",
          "height": 488
        },
        "id": "Zz4TTfbKlb7h",
        "outputId": "501c2e32-971b-461d-b3bd-f1d2ef4e0fa2"
      },
      "execution_count": 12,
      "outputs": [
        {
          "output_type": "execute_result",
          "data": {
            "text/html": [
              "\n",
              "  <div id=\"df-d39332f7-2cd9-4967-af28-d5d14b849856\">\n",
              "    <div class=\"colab-df-container\">\n",
              "      <div>\n",
              "<style scoped>\n",
              "    .dataframe tbody tr th:only-of-type {\n",
              "        vertical-align: middle;\n",
              "    }\n",
              "\n",
              "    .dataframe tbody tr th {\n",
              "        vertical-align: top;\n",
              "    }\n",
              "\n",
              "    .dataframe thead th {\n",
              "        text-align: right;\n",
              "    }\n",
              "</style>\n",
              "<table border=\"1\" class=\"dataframe\">\n",
              "  <thead>\n",
              "    <tr style=\"text-align: right;\">\n",
              "      <th></th>\n",
              "      <th>Date</th>\n",
              "      <th>Location</th>\n",
              "      <th>MinTemp</th>\n",
              "      <th>MaxTemp</th>\n",
              "      <th>Rainfall</th>\n",
              "      <th>Evaporation</th>\n",
              "      <th>Sunshine</th>\n",
              "      <th>WindGustDir</th>\n",
              "      <th>WindGustSpeed</th>\n",
              "      <th>WindDir9am</th>\n",
              "      <th>WindDir3pm</th>\n",
              "      <th>WindSpeed9am</th>\n",
              "      <th>WindSpeed3pm</th>\n",
              "      <th>Humidity9am</th>\n",
              "      <th>Humidity3pm</th>\n",
              "      <th>Pressure9am</th>\n",
              "      <th>Pressure3pm</th>\n",
              "      <th>Cloud9am</th>\n",
              "      <th>Cloud3pm</th>\n",
              "      <th>Temp9am</th>\n",
              "      <th>Temp3pm</th>\n",
              "      <th>RainToday</th>\n",
              "      <th>RainTomorrow</th>\n",
              "    </tr>\n",
              "  </thead>\n",
              "  <tbody>\n",
              "    <tr>\n",
              "      <th>0</th>\n",
              "      <td>2856</td>\n",
              "      <td>11</td>\n",
              "      <td>18.3</td>\n",
              "      <td>35.4</td>\n",
              "      <td>0.0</td>\n",
              "      <td>10.7</td>\n",
              "      <td>8.2</td>\n",
              "      <td>15.0</td>\n",
              "      <td>31.0</td>\n",
              "      <td>0.0</td>\n",
              "      <td>6.0</td>\n",
              "      <td>17.0</td>\n",
              "      <td>9.0</td>\n",
              "      <td>17.0</td>\n",
              "      <td>14.0</td>\n",
              "      <td>1012.8</td>\n",
              "      <td>1010.7</td>\n",
              "      <td>3.0</td>\n",
              "      <td>7.0</td>\n",
              "      <td>26.3</td>\n",
              "      <td>34.0</td>\n",
              "      <td>0.0</td>\n",
              "      <td>1.0</td>\n",
              "    </tr>\n",
              "    <tr>\n",
              "      <th>1</th>\n",
              "      <td>575</td>\n",
              "      <td>0</td>\n",
              "      <td>12.0</td>\n",
              "      <td>21.1</td>\n",
              "      <td>0.0</td>\n",
              "      <td>2.4</td>\n",
              "      <td>4.9</td>\n",
              "      <td>11.0</td>\n",
              "      <td>22.0</td>\n",
              "      <td>15.0</td>\n",
              "      <td>10.0</td>\n",
              "      <td>9.0</td>\n",
              "      <td>9.0</td>\n",
              "      <td>70.0</td>\n",
              "      <td>60.0</td>\n",
              "      <td>1022.3</td>\n",
              "      <td>1020.2</td>\n",
              "      <td>2.0</td>\n",
              "      <td>7.0</td>\n",
              "      <td>16.2</td>\n",
              "      <td>19.4</td>\n",
              "      <td>0.0</td>\n",
              "      <td>0.0</td>\n",
              "    </tr>\n",
              "    <tr>\n",
              "      <th>2</th>\n",
              "      <td>2037</td>\n",
              "      <td>6</td>\n",
              "      <td>11.9</td>\n",
              "      <td>17.0</td>\n",
              "      <td>1.6</td>\n",
              "      <td>5.6</td>\n",
              "      <td>0.8</td>\n",
              "      <td>5.0</td>\n",
              "      <td>48.0</td>\n",
              "      <td>4.0</td>\n",
              "      <td>3.0</td>\n",
              "      <td>24.0</td>\n",
              "      <td>30.0</td>\n",
              "      <td>71.0</td>\n",
              "      <td>88.0</td>\n",
              "      <td>1008.4</td>\n",
              "      <td>1004.7</td>\n",
              "      <td>7.0</td>\n",
              "      <td>7.0</td>\n",
              "      <td>14.6</td>\n",
              "      <td>13.3</td>\n",
              "      <td>1.0</td>\n",
              "      <td>1.0</td>\n",
              "    </tr>\n",
              "    <tr>\n",
              "      <th>3</th>\n",
              "      <td>2010</td>\n",
              "      <td>19</td>\n",
              "      <td>1.3</td>\n",
              "      <td>10.2</td>\n",
              "      <td>4.2</td>\n",
              "      <td>2.6</td>\n",
              "      <td>4.4</td>\n",
              "      <td>15.0</td>\n",
              "      <td>33.0</td>\n",
              "      <td>15.0</td>\n",
              "      <td>13.0</td>\n",
              "      <td>15.0</td>\n",
              "      <td>17.0</td>\n",
              "      <td>87.0</td>\n",
              "      <td>64.0</td>\n",
              "      <td>1018.4</td>\n",
              "      <td>1016.8</td>\n",
              "      <td>7.0</td>\n",
              "      <td>7.0</td>\n",
              "      <td>3.8</td>\n",
              "      <td>8.5</td>\n",
              "      <td>1.0</td>\n",
              "      <td>0.0</td>\n",
              "    </tr>\n",
              "    <tr>\n",
              "      <th>4</th>\n",
              "      <td>2895</td>\n",
              "      <td>18</td>\n",
              "      <td>23.7</td>\n",
              "      <td>31.5</td>\n",
              "      <td>0.0</td>\n",
              "      <td>11.0</td>\n",
              "      <td>12.1</td>\n",
              "      <td>4.0</td>\n",
              "      <td>35.0</td>\n",
              "      <td>2.0</td>\n",
              "      <td>1.0</td>\n",
              "      <td>17.0</td>\n",
              "      <td>28.0</td>\n",
              "      <td>53.0</td>\n",
              "      <td>50.0</td>\n",
              "      <td>1014.2</td>\n",
              "      <td>1010.2</td>\n",
              "      <td>3.0</td>\n",
              "      <td>1.0</td>\n",
              "      <td>29.1</td>\n",
              "      <td>30.4</td>\n",
              "      <td>0.0</td>\n",
              "      <td>0.0</td>\n",
              "    </tr>\n",
              "    <tr>\n",
              "      <th>...</th>\n",
              "      <td>...</td>\n",
              "      <td>...</td>\n",
              "      <td>...</td>\n",
              "      <td>...</td>\n",
              "      <td>...</td>\n",
              "      <td>...</td>\n",
              "      <td>...</td>\n",
              "      <td>...</td>\n",
              "      <td>...</td>\n",
              "      <td>...</td>\n",
              "      <td>...</td>\n",
              "      <td>...</td>\n",
              "      <td>...</td>\n",
              "      <td>...</td>\n",
              "      <td>...</td>\n",
              "      <td>...</td>\n",
              "      <td>...</td>\n",
              "      <td>...</td>\n",
              "      <td>...</td>\n",
              "      <td>...</td>\n",
              "      <td>...</td>\n",
              "      <td>...</td>\n",
              "      <td>...</td>\n",
              "    </tr>\n",
              "    <tr>\n",
              "      <th>12964</th>\n",
              "      <td>3127</td>\n",
              "      <td>7</td>\n",
              "      <td>6.6</td>\n",
              "      <td>17.6</td>\n",
              "      <td>0.2</td>\n",
              "      <td>3.3</td>\n",
              "      <td>7.0</td>\n",
              "      <td>14.0</td>\n",
              "      <td>31.0</td>\n",
              "      <td>15.0</td>\n",
              "      <td>15.0</td>\n",
              "      <td>13.0</td>\n",
              "      <td>19.0</td>\n",
              "      <td>100.0</td>\n",
              "      <td>59.0</td>\n",
              "      <td>1021.3</td>\n",
              "      <td>1019.2</td>\n",
              "      <td>8.0</td>\n",
              "      <td>7.0</td>\n",
              "      <td>10.3</td>\n",
              "      <td>16.2</td>\n",
              "      <td>0.0</td>\n",
              "      <td>0.0</td>\n",
              "    </tr>\n",
              "    <tr>\n",
              "      <th>12965</th>\n",
              "      <td>2877</td>\n",
              "      <td>18</td>\n",
              "      <td>24.3</td>\n",
              "      <td>32.8</td>\n",
              "      <td>4.0</td>\n",
              "      <td>9.4</td>\n",
              "      <td>11.5</td>\n",
              "      <td>3.0</td>\n",
              "      <td>31.0</td>\n",
              "      <td>12.0</td>\n",
              "      <td>3.0</td>\n",
              "      <td>9.0</td>\n",
              "      <td>20.0</td>\n",
              "      <td>66.0</td>\n",
              "      <td>59.0</td>\n",
              "      <td>1006.8</td>\n",
              "      <td>1003.4</td>\n",
              "      <td>4.0</td>\n",
              "      <td>1.0</td>\n",
              "      <td>28.4</td>\n",
              "      <td>31.8</td>\n",
              "      <td>1.0</td>\n",
              "      <td>0.0</td>\n",
              "    </tr>\n",
              "    <tr>\n",
              "      <th>12966</th>\n",
              "      <td>1444</td>\n",
              "      <td>0</td>\n",
              "      <td>16.4</td>\n",
              "      <td>27.9</td>\n",
              "      <td>0.0</td>\n",
              "      <td>9.8</td>\n",
              "      <td>8.7</td>\n",
              "      <td>0.0</td>\n",
              "      <td>22.0</td>\n",
              "      <td>1.0</td>\n",
              "      <td>4.0</td>\n",
              "      <td>4.0</td>\n",
              "      <td>9.0</td>\n",
              "      <td>58.0</td>\n",
              "      <td>54.0</td>\n",
              "      <td>1015.6</td>\n",
              "      <td>1011.2</td>\n",
              "      <td>7.0</td>\n",
              "      <td>7.0</td>\n",
              "      <td>24.5</td>\n",
              "      <td>26.0</td>\n",
              "      <td>0.0</td>\n",
              "      <td>0.0</td>\n",
              "    </tr>\n",
              "    <tr>\n",
              "      <th>12967</th>\n",
              "      <td>2793</td>\n",
              "      <td>17</td>\n",
              "      <td>16.7</td>\n",
              "      <td>29.7</td>\n",
              "      <td>2.2</td>\n",
              "      <td>5.0</td>\n",
              "      <td>9.6</td>\n",
              "      <td>8.0</td>\n",
              "      <td>59.0</td>\n",
              "      <td>7.0</td>\n",
              "      <td>1.0</td>\n",
              "      <td>13.0</td>\n",
              "      <td>24.0</td>\n",
              "      <td>48.0</td>\n",
              "      <td>63.0</td>\n",
              "      <td>1016.6</td>\n",
              "      <td>1012.2</td>\n",
              "      <td>1.0</td>\n",
              "      <td>6.0</td>\n",
              "      <td>22.9</td>\n",
              "      <td>22.8</td>\n",
              "      <td>1.0</td>\n",
              "      <td>1.0</td>\n",
              "    </tr>\n",
              "    <tr>\n",
              "      <th>12968</th>\n",
              "      <td>2042</td>\n",
              "      <td>19</td>\n",
              "      <td>0.0</td>\n",
              "      <td>0.0</td>\n",
              "      <td>0.0</td>\n",
              "      <td>0.0</td>\n",
              "      <td>0.0</td>\n",
              "      <td>0.0</td>\n",
              "      <td>0.0</td>\n",
              "      <td>0.0</td>\n",
              "      <td>0.0</td>\n",
              "      <td>0.0</td>\n",
              "      <td>0.0</td>\n",
              "      <td>0.0</td>\n",
              "      <td>0.0</td>\n",
              "      <td>0.0</td>\n",
              "      <td>0.0</td>\n",
              "      <td>0.0</td>\n",
              "      <td>0.0</td>\n",
              "      <td>0.0</td>\n",
              "      <td>0.0</td>\n",
              "      <td>0.0</td>\n",
              "      <td>0.0</td>\n",
              "    </tr>\n",
              "  </tbody>\n",
              "</table>\n",
              "<p>12969 rows × 23 columns</p>\n",
              "</div>\n",
              "      <button class=\"colab-df-convert\" onclick=\"convertToInteractive('df-d39332f7-2cd9-4967-af28-d5d14b849856')\"\n",
              "              title=\"Convert this dataframe to an interactive table.\"\n",
              "              style=\"display:none;\">\n",
              "        \n",
              "  <svg xmlns=\"http://www.w3.org/2000/svg\" height=\"24px\"viewBox=\"0 0 24 24\"\n",
              "       width=\"24px\">\n",
              "    <path d=\"M0 0h24v24H0V0z\" fill=\"none\"/>\n",
              "    <path d=\"M18.56 5.44l.94 2.06.94-2.06 2.06-.94-2.06-.94-.94-2.06-.94 2.06-2.06.94zm-11 1L8.5 8.5l.94-2.06 2.06-.94-2.06-.94L8.5 2.5l-.94 2.06-2.06.94zm10 10l.94 2.06.94-2.06 2.06-.94-2.06-.94-.94-2.06-.94 2.06-2.06.94z\"/><path d=\"M17.41 7.96l-1.37-1.37c-.4-.4-.92-.59-1.43-.59-.52 0-1.04.2-1.43.59L10.3 9.45l-7.72 7.72c-.78.78-.78 2.05 0 2.83L4 21.41c.39.39.9.59 1.41.59.51 0 1.02-.2 1.41-.59l7.78-7.78 2.81-2.81c.8-.78.8-2.07 0-2.86zM5.41 20L4 18.59l7.72-7.72 1.47 1.35L5.41 20z\"/>\n",
              "  </svg>\n",
              "      </button>\n",
              "      \n",
              "  <style>\n",
              "    .colab-df-container {\n",
              "      display:flex;\n",
              "      flex-wrap:wrap;\n",
              "      gap: 12px;\n",
              "    }\n",
              "\n",
              "    .colab-df-convert {\n",
              "      background-color: #E8F0FE;\n",
              "      border: none;\n",
              "      border-radius: 50%;\n",
              "      cursor: pointer;\n",
              "      display: none;\n",
              "      fill: #1967D2;\n",
              "      height: 32px;\n",
              "      padding: 0 0 0 0;\n",
              "      width: 32px;\n",
              "    }\n",
              "\n",
              "    .colab-df-convert:hover {\n",
              "      background-color: #E2EBFA;\n",
              "      box-shadow: 0px 1px 2px rgba(60, 64, 67, 0.3), 0px 1px 3px 1px rgba(60, 64, 67, 0.15);\n",
              "      fill: #174EA6;\n",
              "    }\n",
              "\n",
              "    [theme=dark] .colab-df-convert {\n",
              "      background-color: #3B4455;\n",
              "      fill: #D2E3FC;\n",
              "    }\n",
              "\n",
              "    [theme=dark] .colab-df-convert:hover {\n",
              "      background-color: #434B5C;\n",
              "      box-shadow: 0px 1px 3px 1px rgba(0, 0, 0, 0.15);\n",
              "      filter: drop-shadow(0px 1px 2px rgba(0, 0, 0, 0.3));\n",
              "      fill: #FFFFFF;\n",
              "    }\n",
              "  </style>\n",
              "\n",
              "      <script>\n",
              "        const buttonEl =\n",
              "          document.querySelector('#df-d39332f7-2cd9-4967-af28-d5d14b849856 button.colab-df-convert');\n",
              "        buttonEl.style.display =\n",
              "          google.colab.kernel.accessAllowed ? 'block' : 'none';\n",
              "\n",
              "        async function convertToInteractive(key) {\n",
              "          const element = document.querySelector('#df-d39332f7-2cd9-4967-af28-d5d14b849856');\n",
              "          const dataTable =\n",
              "            await google.colab.kernel.invokeFunction('convertToInteractive',\n",
              "                                                     [key], {});\n",
              "          if (!dataTable) return;\n",
              "\n",
              "          const docLinkHtml = 'Like what you see? Visit the ' +\n",
              "            '<a target=\"_blank\" href=https://colab.research.google.com/notebooks/data_table.ipynb>data table notebook</a>'\n",
              "            + ' to learn more about interactive tables.';\n",
              "          element.innerHTML = '';\n",
              "          dataTable['output_type'] = 'display_data';\n",
              "          await google.colab.output.renderOutput(dataTable, element);\n",
              "          const docLink = document.createElement('div');\n",
              "          docLink.innerHTML = docLinkHtml;\n",
              "          element.appendChild(docLink);\n",
              "        }\n",
              "      </script>\n",
              "    </div>\n",
              "  </div>\n",
              "  "
            ],
            "text/plain": [
              "       Date  Location  MinTemp  ...  Temp3pm  RainToday  RainTomorrow\n",
              "0      2856        11     18.3  ...     34.0        0.0           1.0\n",
              "1       575         0     12.0  ...     19.4        0.0           0.0\n",
              "2      2037         6     11.9  ...     13.3        1.0           1.0\n",
              "3      2010        19      1.3  ...      8.5        1.0           0.0\n",
              "4      2895        18     23.7  ...     30.4        0.0           0.0\n",
              "...     ...       ...      ...  ...      ...        ...           ...\n",
              "12964  3127         7      6.6  ...     16.2        0.0           0.0\n",
              "12965  2877        18     24.3  ...     31.8        1.0           0.0\n",
              "12966  1444         0     16.4  ...     26.0        0.0           0.0\n",
              "12967  2793        17     16.7  ...     22.8        1.0           1.0\n",
              "12968  2042        19      0.0  ...      0.0        0.0           0.0\n",
              "\n",
              "[12969 rows x 23 columns]"
            ]
          },
          "metadata": {},
          "execution_count": 12
        }
      ]
    },
    {
      "cell_type": "markdown",
      "metadata": {
        "id": "0rh7Jr4tvpa1"
      },
      "source": [
        "<h1 style=\"background-color:#ABFF9B;font-size:20px;color:#00033E;font-weight : bold\">Check missing values in the dataset and fill them by any method</h1>"
      ]
    },
    {
      "cell_type": "code",
      "metadata": {
        "id": "4z466pWsvpa1",
        "colab": {
          "base_uri": "https://localhost:8080/"
        },
        "outputId": "fb047c72-52c9-4127-9626-2364cd278544"
      },
      "source": [
        "## Check if there any null value in the dataset.\n",
        "\n",
        "## ======== YOUR CODE HERE ======== ##\n",
        "df.isnull().sum()\n",
        "\n",
        "\n",
        "## ================================ ##"
      ],
      "execution_count": 19,
      "outputs": [
        {
          "output_type": "execute_result",
          "data": {
            "text/plain": [
              "Date             0\n",
              "Location         0\n",
              "MinTemp          0\n",
              "MaxTemp          0\n",
              "Rainfall         0\n",
              "Evaporation      0\n",
              "Sunshine         0\n",
              "WindGustDir      0\n",
              "WindGustSpeed    0\n",
              "WindDir9am       0\n",
              "WindDir3pm       0\n",
              "WindSpeed9am     0\n",
              "WindSpeed3pm     0\n",
              "Humidity9am      0\n",
              "Humidity3pm      0\n",
              "Pressure9am      0\n",
              "Pressure3pm      0\n",
              "Cloud9am         0\n",
              "Cloud3pm         0\n",
              "Temp9am          0\n",
              "Temp3pm          0\n",
              "RainToday        0\n",
              "RainTomorrow     0\n",
              "dtype: int64"
            ]
          },
          "metadata": {},
          "execution_count": 19
        }
      ]
    },
    {
      "cell_type": "markdown",
      "metadata": {
        "id": "c-BNxcmrvpa2"
      },
      "source": [
        "<h1 style=\"background-color:#ABFF9B;font-size:20px;color:#00033E;font-weight : bold\">Use Feature Encoding :</h1>"
      ]
    },
    {
      "cell_type": "code",
      "metadata": {
        "id": "FZmvqTMxvpa2",
        "colab": {
          "base_uri": "https://localhost:8080/",
          "height": 488
        },
        "outputId": "70907e7f-1c27-47b5-a46a-f71fd6b045bd"
      },
      "source": [
        "## ======== YOUR CODE HERE ======== ##\n",
        "\n",
        "## Use one hot encoding on dataframe\n",
        "pd.get_dummies(df)\n",
        "## ================================ ##\n"
      ],
      "execution_count": 20,
      "outputs": [
        {
          "output_type": "execute_result",
          "data": {
            "text/html": [
              "\n",
              "  <div id=\"df-2b937ef7-33f0-4f7d-a6c0-049827603d26\">\n",
              "    <div class=\"colab-df-container\">\n",
              "      <div>\n",
              "<style scoped>\n",
              "    .dataframe tbody tr th:only-of-type {\n",
              "        vertical-align: middle;\n",
              "    }\n",
              "\n",
              "    .dataframe tbody tr th {\n",
              "        vertical-align: top;\n",
              "    }\n",
              "\n",
              "    .dataframe thead th {\n",
              "        text-align: right;\n",
              "    }\n",
              "</style>\n",
              "<table border=\"1\" class=\"dataframe\">\n",
              "  <thead>\n",
              "    <tr style=\"text-align: right;\">\n",
              "      <th></th>\n",
              "      <th>Date</th>\n",
              "      <th>Location</th>\n",
              "      <th>MinTemp</th>\n",
              "      <th>MaxTemp</th>\n",
              "      <th>Rainfall</th>\n",
              "      <th>Evaporation</th>\n",
              "      <th>Sunshine</th>\n",
              "      <th>WindGustDir</th>\n",
              "      <th>WindGustSpeed</th>\n",
              "      <th>WindDir9am</th>\n",
              "      <th>WindDir3pm</th>\n",
              "      <th>WindSpeed9am</th>\n",
              "      <th>WindSpeed3pm</th>\n",
              "      <th>Humidity9am</th>\n",
              "      <th>Humidity3pm</th>\n",
              "      <th>Pressure9am</th>\n",
              "      <th>Pressure3pm</th>\n",
              "      <th>Cloud9am</th>\n",
              "      <th>Cloud3pm</th>\n",
              "      <th>Temp9am</th>\n",
              "      <th>Temp3pm</th>\n",
              "      <th>RainToday</th>\n",
              "      <th>RainTomorrow</th>\n",
              "    </tr>\n",
              "  </thead>\n",
              "  <tbody>\n",
              "    <tr>\n",
              "      <th>0</th>\n",
              "      <td>2856</td>\n",
              "      <td>11</td>\n",
              "      <td>18.3</td>\n",
              "      <td>35.4</td>\n",
              "      <td>0.0</td>\n",
              "      <td>10.7</td>\n",
              "      <td>8.2</td>\n",
              "      <td>15</td>\n",
              "      <td>31</td>\n",
              "      <td>0</td>\n",
              "      <td>6</td>\n",
              "      <td>17</td>\n",
              "      <td>9</td>\n",
              "      <td>17</td>\n",
              "      <td>14</td>\n",
              "      <td>1012.8</td>\n",
              "      <td>1010.7</td>\n",
              "      <td>3</td>\n",
              "      <td>7</td>\n",
              "      <td>26.3</td>\n",
              "      <td>34.0</td>\n",
              "      <td>0</td>\n",
              "      <td>1</td>\n",
              "    </tr>\n",
              "    <tr>\n",
              "      <th>1</th>\n",
              "      <td>575</td>\n",
              "      <td>0</td>\n",
              "      <td>12.0</td>\n",
              "      <td>21.1</td>\n",
              "      <td>0.0</td>\n",
              "      <td>2.4</td>\n",
              "      <td>4.9</td>\n",
              "      <td>11</td>\n",
              "      <td>22</td>\n",
              "      <td>15</td>\n",
              "      <td>10</td>\n",
              "      <td>9</td>\n",
              "      <td>9</td>\n",
              "      <td>70</td>\n",
              "      <td>60</td>\n",
              "      <td>1022.3</td>\n",
              "      <td>1020.2</td>\n",
              "      <td>2</td>\n",
              "      <td>7</td>\n",
              "      <td>16.2</td>\n",
              "      <td>19.4</td>\n",
              "      <td>0</td>\n",
              "      <td>0</td>\n",
              "    </tr>\n",
              "    <tr>\n",
              "      <th>2</th>\n",
              "      <td>2037</td>\n",
              "      <td>6</td>\n",
              "      <td>11.9</td>\n",
              "      <td>17.0</td>\n",
              "      <td>1.6</td>\n",
              "      <td>5.6</td>\n",
              "      <td>0.8</td>\n",
              "      <td>5</td>\n",
              "      <td>48</td>\n",
              "      <td>4</td>\n",
              "      <td>3</td>\n",
              "      <td>24</td>\n",
              "      <td>30</td>\n",
              "      <td>71</td>\n",
              "      <td>88</td>\n",
              "      <td>1008.4</td>\n",
              "      <td>1004.7</td>\n",
              "      <td>7</td>\n",
              "      <td>7</td>\n",
              "      <td>14.6</td>\n",
              "      <td>13.3</td>\n",
              "      <td>1</td>\n",
              "      <td>1</td>\n",
              "    </tr>\n",
              "    <tr>\n",
              "      <th>3</th>\n",
              "      <td>2010</td>\n",
              "      <td>19</td>\n",
              "      <td>1.3</td>\n",
              "      <td>10.2</td>\n",
              "      <td>4.2</td>\n",
              "      <td>2.6</td>\n",
              "      <td>4.4</td>\n",
              "      <td>15</td>\n",
              "      <td>33</td>\n",
              "      <td>15</td>\n",
              "      <td>13</td>\n",
              "      <td>15</td>\n",
              "      <td>17</td>\n",
              "      <td>87</td>\n",
              "      <td>64</td>\n",
              "      <td>1018.4</td>\n",
              "      <td>1016.8</td>\n",
              "      <td>7</td>\n",
              "      <td>7</td>\n",
              "      <td>3.8</td>\n",
              "      <td>8.5</td>\n",
              "      <td>1</td>\n",
              "      <td>0</td>\n",
              "    </tr>\n",
              "    <tr>\n",
              "      <th>4</th>\n",
              "      <td>2895</td>\n",
              "      <td>18</td>\n",
              "      <td>23.7</td>\n",
              "      <td>31.5</td>\n",
              "      <td>0.0</td>\n",
              "      <td>11.0</td>\n",
              "      <td>12.1</td>\n",
              "      <td>4</td>\n",
              "      <td>35</td>\n",
              "      <td>2</td>\n",
              "      <td>1</td>\n",
              "      <td>17</td>\n",
              "      <td>28</td>\n",
              "      <td>53</td>\n",
              "      <td>50</td>\n",
              "      <td>1014.2</td>\n",
              "      <td>1010.2</td>\n",
              "      <td>3</td>\n",
              "      <td>1</td>\n",
              "      <td>29.1</td>\n",
              "      <td>30.4</td>\n",
              "      <td>0</td>\n",
              "      <td>0</td>\n",
              "    </tr>\n",
              "    <tr>\n",
              "      <th>...</th>\n",
              "      <td>...</td>\n",
              "      <td>...</td>\n",
              "      <td>...</td>\n",
              "      <td>...</td>\n",
              "      <td>...</td>\n",
              "      <td>...</td>\n",
              "      <td>...</td>\n",
              "      <td>...</td>\n",
              "      <td>...</td>\n",
              "      <td>...</td>\n",
              "      <td>...</td>\n",
              "      <td>...</td>\n",
              "      <td>...</td>\n",
              "      <td>...</td>\n",
              "      <td>...</td>\n",
              "      <td>...</td>\n",
              "      <td>...</td>\n",
              "      <td>...</td>\n",
              "      <td>...</td>\n",
              "      <td>...</td>\n",
              "      <td>...</td>\n",
              "      <td>...</td>\n",
              "      <td>...</td>\n",
              "    </tr>\n",
              "    <tr>\n",
              "      <th>24191</th>\n",
              "      <td>3231</td>\n",
              "      <td>16</td>\n",
              "      <td>20.8</td>\n",
              "      <td>24.4</td>\n",
              "      <td>0.0</td>\n",
              "      <td>7.6</td>\n",
              "      <td>7.9</td>\n",
              "      <td>1</td>\n",
              "      <td>48</td>\n",
              "      <td>4</td>\n",
              "      <td>4</td>\n",
              "      <td>20</td>\n",
              "      <td>28</td>\n",
              "      <td>56</td>\n",
              "      <td>56</td>\n",
              "      <td>1019.3</td>\n",
              "      <td>1016.6</td>\n",
              "      <td>5</td>\n",
              "      <td>2</td>\n",
              "      <td>23.0</td>\n",
              "      <td>23.8</td>\n",
              "      <td>0</td>\n",
              "      <td>0</td>\n",
              "    </tr>\n",
              "    <tr>\n",
              "      <th>24192</th>\n",
              "      <td>3405</td>\n",
              "      <td>16</td>\n",
              "      <td>10.7</td>\n",
              "      <td>20.1</td>\n",
              "      <td>0.6</td>\n",
              "      <td>1.2</td>\n",
              "      <td>6.4</td>\n",
              "      <td>13</td>\n",
              "      <td>22</td>\n",
              "      <td>13</td>\n",
              "      <td>1</td>\n",
              "      <td>13</td>\n",
              "      <td>15</td>\n",
              "      <td>89</td>\n",
              "      <td>69</td>\n",
              "      <td>1027.9</td>\n",
              "      <td>1024.4</td>\n",
              "      <td>2</td>\n",
              "      <td>6</td>\n",
              "      <td>11.9</td>\n",
              "      <td>18.7</td>\n",
              "      <td>0</td>\n",
              "      <td>0</td>\n",
              "    </tr>\n",
              "    <tr>\n",
              "      <th>24193</th>\n",
              "      <td>638</td>\n",
              "      <td>17</td>\n",
              "      <td>9.5</td>\n",
              "      <td>21.6</td>\n",
              "      <td>0.0</td>\n",
              "      <td>2.8</td>\n",
              "      <td>4.9</td>\n",
              "      <td>13</td>\n",
              "      <td>28</td>\n",
              "      <td>6</td>\n",
              "      <td>0</td>\n",
              "      <td>15</td>\n",
              "      <td>19</td>\n",
              "      <td>72</td>\n",
              "      <td>36</td>\n",
              "      <td>1019.2</td>\n",
              "      <td>1013.8</td>\n",
              "      <td>7</td>\n",
              "      <td>1</td>\n",
              "      <td>12.7</td>\n",
              "      <td>21.1</td>\n",
              "      <td>0</td>\n",
              "      <td>0</td>\n",
              "    </tr>\n",
              "    <tr>\n",
              "      <th>24194</th>\n",
              "      <td>987</td>\n",
              "      <td>11</td>\n",
              "      <td>5.5</td>\n",
              "      <td>9.0</td>\n",
              "      <td>0.8</td>\n",
              "      <td>0.8</td>\n",
              "      <td>0.6</td>\n",
              "      <td>8</td>\n",
              "      <td>43</td>\n",
              "      <td>7</td>\n",
              "      <td>8</td>\n",
              "      <td>22</td>\n",
              "      <td>24</td>\n",
              "      <td>91</td>\n",
              "      <td>83</td>\n",
              "      <td>1018.4</td>\n",
              "      <td>1017.9</td>\n",
              "      <td>8</td>\n",
              "      <td>8</td>\n",
              "      <td>7.1</td>\n",
              "      <td>7.8</td>\n",
              "      <td>0</td>\n",
              "      <td>1</td>\n",
              "    </tr>\n",
              "    <tr>\n",
              "      <th>24195</th>\n",
              "      <td>1143</td>\n",
              "      <td>8</td>\n",
              "      <td>19.5</td>\n",
              "      <td>31.8</td>\n",
              "      <td>0.0</td>\n",
              "      <td>13.4</td>\n",
              "      <td>6.3</td>\n",
              "      <td>4</td>\n",
              "      <td>50</td>\n",
              "      <td>0</td>\n",
              "      <td>2</td>\n",
              "      <td>35</td>\n",
              "      <td>22</td>\n",
              "      <td>52</td>\n",
              "      <td>37</td>\n",
              "      <td>1008.0</td>\n",
              "      <td>1006.3</td>\n",
              "      <td>3</td>\n",
              "      <td>5</td>\n",
              "      <td>24.2</td>\n",
              "      <td>30.3</td>\n",
              "      <td>0</td>\n",
              "      <td>0</td>\n",
              "    </tr>\n",
              "  </tbody>\n",
              "</table>\n",
              "<p>24196 rows × 23 columns</p>\n",
              "</div>\n",
              "      <button class=\"colab-df-convert\" onclick=\"convertToInteractive('df-2b937ef7-33f0-4f7d-a6c0-049827603d26')\"\n",
              "              title=\"Convert this dataframe to an interactive table.\"\n",
              "              style=\"display:none;\">\n",
              "        \n",
              "  <svg xmlns=\"http://www.w3.org/2000/svg\" height=\"24px\"viewBox=\"0 0 24 24\"\n",
              "       width=\"24px\">\n",
              "    <path d=\"M0 0h24v24H0V0z\" fill=\"none\"/>\n",
              "    <path d=\"M18.56 5.44l.94 2.06.94-2.06 2.06-.94-2.06-.94-.94-2.06-.94 2.06-2.06.94zm-11 1L8.5 8.5l.94-2.06 2.06-.94-2.06-.94L8.5 2.5l-.94 2.06-2.06.94zm10 10l.94 2.06.94-2.06 2.06-.94-2.06-.94-.94-2.06-.94 2.06-2.06.94z\"/><path d=\"M17.41 7.96l-1.37-1.37c-.4-.4-.92-.59-1.43-.59-.52 0-1.04.2-1.43.59L10.3 9.45l-7.72 7.72c-.78.78-.78 2.05 0 2.83L4 21.41c.39.39.9.59 1.41.59.51 0 1.02-.2 1.41-.59l7.78-7.78 2.81-2.81c.8-.78.8-2.07 0-2.86zM5.41 20L4 18.59l7.72-7.72 1.47 1.35L5.41 20z\"/>\n",
              "  </svg>\n",
              "      </button>\n",
              "      \n",
              "  <style>\n",
              "    .colab-df-container {\n",
              "      display:flex;\n",
              "      flex-wrap:wrap;\n",
              "      gap: 12px;\n",
              "    }\n",
              "\n",
              "    .colab-df-convert {\n",
              "      background-color: #E8F0FE;\n",
              "      border: none;\n",
              "      border-radius: 50%;\n",
              "      cursor: pointer;\n",
              "      display: none;\n",
              "      fill: #1967D2;\n",
              "      height: 32px;\n",
              "      padding: 0 0 0 0;\n",
              "      width: 32px;\n",
              "    }\n",
              "\n",
              "    .colab-df-convert:hover {\n",
              "      background-color: #E2EBFA;\n",
              "      box-shadow: 0px 1px 2px rgba(60, 64, 67, 0.3), 0px 1px 3px 1px rgba(60, 64, 67, 0.15);\n",
              "      fill: #174EA6;\n",
              "    }\n",
              "\n",
              "    [theme=dark] .colab-df-convert {\n",
              "      background-color: #3B4455;\n",
              "      fill: #D2E3FC;\n",
              "    }\n",
              "\n",
              "    [theme=dark] .colab-df-convert:hover {\n",
              "      background-color: #434B5C;\n",
              "      box-shadow: 0px 1px 3px 1px rgba(0, 0, 0, 0.15);\n",
              "      filter: drop-shadow(0px 1px 2px rgba(0, 0, 0, 0.3));\n",
              "      fill: #FFFFFF;\n",
              "    }\n",
              "  </style>\n",
              "\n",
              "      <script>\n",
              "        const buttonEl =\n",
              "          document.querySelector('#df-2b937ef7-33f0-4f7d-a6c0-049827603d26 button.colab-df-convert');\n",
              "        buttonEl.style.display =\n",
              "          google.colab.kernel.accessAllowed ? 'block' : 'none';\n",
              "\n",
              "        async function convertToInteractive(key) {\n",
              "          const element = document.querySelector('#df-2b937ef7-33f0-4f7d-a6c0-049827603d26');\n",
              "          const dataTable =\n",
              "            await google.colab.kernel.invokeFunction('convertToInteractive',\n",
              "                                                     [key], {});\n",
              "          if (!dataTable) return;\n",
              "\n",
              "          const docLinkHtml = 'Like what you see? Visit the ' +\n",
              "            '<a target=\"_blank\" href=https://colab.research.google.com/notebooks/data_table.ipynb>data table notebook</a>'\n",
              "            + ' to learn more about interactive tables.';\n",
              "          element.innerHTML = '';\n",
              "          dataTable['output_type'] = 'display_data';\n",
              "          await google.colab.output.renderOutput(dataTable, element);\n",
              "          const docLink = document.createElement('div');\n",
              "          docLink.innerHTML = docLinkHtml;\n",
              "          element.appendChild(docLink);\n",
              "        }\n",
              "      </script>\n",
              "    </div>\n",
              "  </div>\n",
              "  "
            ],
            "text/plain": [
              "       Date  Location  MinTemp  ...  Temp3pm  RainToday  RainTomorrow\n",
              "0      2856        11     18.3  ...     34.0          0             1\n",
              "1       575         0     12.0  ...     19.4          0             0\n",
              "2      2037         6     11.9  ...     13.3          1             1\n",
              "3      2010        19      1.3  ...      8.5          1             0\n",
              "4      2895        18     23.7  ...     30.4          0             0\n",
              "...     ...       ...      ...  ...      ...        ...           ...\n",
              "24191  3231        16     20.8  ...     23.8          0             0\n",
              "24192  3405        16     10.7  ...     18.7          0             0\n",
              "24193   638        17      9.5  ...     21.1          0             0\n",
              "24194   987        11      5.5  ...      7.8          0             1\n",
              "24195  1143         8     19.5  ...     30.3          0             0\n",
              "\n",
              "[24196 rows x 23 columns]"
            ]
          },
          "metadata": {},
          "execution_count": 20
        }
      ]
    },
    {
      "cell_type": "markdown",
      "metadata": {
        "id": "pm9NZc9Bvpa2"
      },
      "source": [
        "<h1 style=\"background-color:#ABFF9B;font-size:20px;color:#00033E;font-weight : bold\">Split the data into train and test.</h1>"
      ]
    },
    {
      "cell_type": "code",
      "metadata": {
        "id": "ENos_-58vpa2"
      },
      "source": [
        "## ======== YOUR CODE HERE ======== ##\n",
        "y=df['RainTomorrow']\n",
        "X=df.drop(['RainTomorrow'],axis=1)\n",
        "## Test size should be 25% of the full dataset and use random state = 2021\n",
        "\n",
        "X_train, X_test, y_train, y_test = train_test_split(X, y, random_state=2021, test_size=0.25)\n",
        "\n",
        "## ================================ ##"
      ],
      "execution_count": 21,
      "outputs": []
    },
    {
      "cell_type": "code",
      "metadata": {
        "id": "9z0dhowPvpa2",
        "colab": {
          "base_uri": "https://localhost:8080/"
        },
        "outputId": "357c6ff3-2789-425d-873b-926301028308"
      },
      "source": [
        "## ======== YOUR CODE HERE ======== ##\n",
        "\n",
        "   ## Let us print the shapes:\n",
        "    \n",
        "print(\"X_train:\", X_train.shape) # X_train\n",
        "print(\"X_test:\",X_test.shape) # X_test\n",
        "print(\"y_train:\",y_train.shape) # y_train\n",
        "print(\"y_test:\",y_test.shape) # y_test\n",
        "\n",
        "## ================================ ##"
      ],
      "execution_count": 22,
      "outputs": [
        {
          "output_type": "stream",
          "name": "stdout",
          "text": [
            "X_train: (18147, 22)\n",
            "X_test: (6049, 22)\n",
            "y_train: (18147,)\n",
            "y_test: (6049,)\n"
          ]
        }
      ]
    },
    {
      "cell_type": "markdown",
      "metadata": {
        "id": "qgbT2Gqdvpa3"
      },
      "source": [
        "<h1 style=\"background-color:#ABFF9B;font-size:20px;color:#00033E;font-weight : bold\">Scale the data using Standard Scaler :</h1>"
      ]
    },
    {
      "cell_type": "code",
      "metadata": {
        "id": "3n7PsXYnvpa3"
      },
      "source": [
        "## Use Standard Scaler to scale the train and test data\n",
        "\n",
        "## ======== YOUR CODE HERE ======== ##\n",
        "\n",
        "scaler = StandardScaler()\n",
        "X_train_scaled= scaler.fit_transform(X_train)\n",
        "X_test_scaled= scaler.transform(X_test)\n",
        "\n",
        "\n",
        "\n",
        "\n",
        "## ================================ ##"
      ],
      "execution_count": 23,
      "outputs": []
    },
    {
      "cell_type": "markdown",
      "metadata": {
        "id": "IY8VC5sBvpa3"
      },
      "source": [
        "<h1 style=\"background-color:#ABFF9B;font-size:20px;color:#00033E;font-weight : bold\">Train a Logistic Regression with all default parameters</h1>"
      ]
    },
    {
      "cell_type": "code",
      "metadata": {
        "id": "8vZV0RUhvpa3",
        "colab": {
          "base_uri": "https://localhost:8080/"
        },
        "outputId": "9123dcf0-d080-4873-fa0f-1606b1de4212"
      },
      "source": [
        "## Use Random state = 2021 and fit the LR model\n",
        "\n",
        "## ======== YOUR CODE HERE ======== ##\n",
        "log_reg = LogisticRegression()\n",
        "log_reg.fit(X_train_scaled, y_train)\n",
        "\n",
        "\n",
        "## ================================ ##"
      ],
      "execution_count": 24,
      "outputs": [
        {
          "output_type": "execute_result",
          "data": {
            "text/plain": [
              "LogisticRegression()"
            ]
          },
          "metadata": {},
          "execution_count": 24
        }
      ]
    },
    {
      "cell_type": "markdown",
      "metadata": {
        "id": "bnmjHAupvpa4"
      },
      "source": [
        "<h1 style=\"background-color:#ABFF9B;font-size:20px;color:#00033E;font-weight : bold\">Plot Confusion Matrix using plot_confusion_matrix module :</h1>"
      ]
    },
    {
      "cell_type": "code",
      "metadata": {
        "id": "E1SXfdSUvpa4",
        "colab": {
          "base_uri": "https://localhost:8080/",
          "height": 301
        },
        "outputId": "00a5a3cf-a581-4932-d5fa-67325d412249"
      },
      "source": [
        "## ======== YOUR CODE HERE ======== ##\n",
        "\n",
        "## Use display labels as per your choice.\n",
        "\n",
        "plot_confusion_matrix(log_reg, X_test_scaled, y_test)\n",
        "\n",
        "## ================================ ##"
      ],
      "execution_count": 25,
      "outputs": [
        {
          "output_type": "execute_result",
          "data": {
            "text/plain": [
              "<sklearn.metrics._plot.confusion_matrix.ConfusionMatrixDisplay at 0x7f74c19b5ad0>"
            ]
          },
          "metadata": {},
          "execution_count": 25
        },
        {
          "output_type": "display_data",
          "data": {
            "image/png": "[encoded data removed]",
            "text/plain": [
              "<Figure size 432x288 with 2 Axes>"
            ]
          },
          "metadata": {
            "needs_background": "light"
          }
        }
      ]
    },
    {
      "cell_type": "markdown",
      "metadata": {
        "id": "pgN165X7vpa4"
      },
      "source": [
        "<h1 style=\"background-color:#ABFF9B;font-size:20px;color:#00033E;font-weight : bold\">Print out Classification Report for LR :</h1>"
      ]
    },
    {
      "cell_type": "code",
      "metadata": {
        "id": "FzcnzDD9vpa4",
        "colab": {
          "base_uri": "https://localhost:8080/"
        },
        "outputId": "27c1cc38-1ad1-4fb3-ce8e-f74b833aeefd"
      },
      "source": [
        "## ======== YOUR CODE HERE ======== ##\n",
        "\n",
        "\n",
        "\n",
        "print(classification_report(y_train, log_reg.predict(X_train_scaled)))\n",
        "\n",
        "\n",
        "## ================================ ##\n"
      ],
      "execution_count": 26,
      "outputs": [
        {
          "output_type": "stream",
          "name": "stdout",
          "text": [
            "              precision    recall  f1-score   support\n",
            "\n",
            "           0       0.80      0.83      0.82      9913\n",
            "           1       0.79      0.76      0.77      8234\n",
            "\n",
            "    accuracy                           0.80     18147\n",
            "   macro avg       0.80      0.80      0.80     18147\n",
            "weighted avg       0.80      0.80      0.80     18147\n",
            "\n"
          ]
        }
      ]
    },
    {
      "cell_type": "markdown",
      "metadata": {
        "id": "Xle8Hr2vvpa4"
      },
      "source": [
        "<h1 style=\"background-color:#ABFF9B;font-size:20px;color:#00033E;font-weight : bold\">Print Training and Testing Score along with Accuracy score for LR :</h1> "
      ]
    },
    {
      "cell_type": "code",
      "metadata": {
        "id": "ND1kWpJMvpa5",
        "colab": {
          "base_uri": "https://localhost:8080/"
        },
        "outputId": "6aeffe82-a9d4-478e-e431-9d3d2448a590"
      },
      "source": [
        "## ======== YOUR CODE HERE ======== ##\n",
        "print('Training Score', log_reg.score(X_train_scaled, y_train))\n",
        "print('Testing Score', log_reg.score(X_test_scaled, y_test))\n",
        "\n",
        "\n",
        "\n",
        "\n",
        "\n",
        "## ================================ ##"
      ],
      "execution_count": 27,
      "outputs": [
        {
          "output_type": "stream",
          "name": "stdout",
          "text": [
            "Training Score 0.7989199316691464\n",
            "Testing Score 0.7969912382211936\n"
          ]
        }
      ]
    },
    {
      "cell_type": "code",
      "metadata": {
        "id": "jm3sW4ZTvpa5",
        "colab": {
          "base_uri": "https://localhost:8080/"
        },
        "outputId": "4c7780fd-c370-49fc-b70a-ecf0a82136a8"
      },
      "source": [
        "## ======== YOUR CODE HERE ======== ##\n",
        "\n",
        "## Print Accuracy Score for LR\n",
        "accuracy_score(y_test, log_reg.predict(X_test_scaled))\n",
        "## ================================ ##"
      ],
      "execution_count": 28,
      "outputs": [
        {
          "output_type": "execute_result",
          "data": {
            "text/plain": [
              "0.7969912382211936"
            ]
          },
          "metadata": {},
          "execution_count": 28
        }
      ]
    },
    {
      "cell_type": "markdown",
      "metadata": {
        "id": "T16gbfRQvpa5"
      },
      "source": [
        "<h1 style=\"background-color:#ABFF9B;font-size:20px;color:#00033E;font-weight : bold\">Print ROC - AUC Score for LR :</h1> "
      ]
    },
    {
      "cell_type": "code",
      "metadata": {
        "id": "IV0ubSL9vpa5",
        "colab": {
          "base_uri": "https://localhost:8080/"
        },
        "outputId": "77146973-c1d9-406d-c70e-c5ff64bef72e"
      },
      "source": [
        "## ======== YOUR CODE HERE ======== ##\n",
        "\n",
        "roc_auc_score(y_test, log_reg.predict(X_test_scaled))\n",
        "\n",
        "\n",
        "## ================================ ##"
      ],
      "execution_count": 29,
      "outputs": [
        {
          "output_type": "execute_result",
          "data": {
            "text/plain": [
              "0.7933187274711465"
            ]
          },
          "metadata": {},
          "execution_count": 29
        }
      ]
    },
    {
      "cell_type": "markdown",
      "metadata": {
        "id": "og34rzbSvpa5"
      },
      "source": [
        "<h1 style=\"background-color:#ABFF9B;font-size:20px;color:#00033E;font-weight : bold\">Train SVM with C = 50 and gamma = scale :</h1>"
      ]
    },
    {
      "cell_type": "code",
      "metadata": {
        "id": "_fw1j2cxvpa5",
        "colab": {
          "base_uri": "https://localhost:8080/"
        },
        "outputId": "fb1a0dc0-b450-4037-85ec-94c5990d2f64"
      },
      "source": [
        "## ======== YOUR CODE HERE ======== ##\n",
        "\n",
        "## Set probability = True \n",
        "\n",
        "svm_scaler = SVC(C=50, gamma='scale', probability=True)\n",
        "svm_scaler.fit(X_train_scaled, y_train)\n",
        "\n",
        "\n",
        "## ================================ ##"
      ],
      "execution_count": 30,
      "outputs": [
        {
          "output_type": "execute_result",
          "data": {
            "text/plain": [
              "SVC(C=50, probability=True)"
            ]
          },
          "metadata": {},
          "execution_count": 30
        }
      ]
    },
    {
      "cell_type": "markdown",
      "metadata": {
        "id": "y8VRDRHXvpa6"
      },
      "source": [
        "<h1 style=\"background-color:#ABFF9B;font-size:20px;color:#00033E;font-weight : bold\">Plot Confusion Matrix for SVM :</h1>"
      ]
    },
    {
      "cell_type": "code",
      "metadata": {
        "id": "1TTVlekPvpa6",
        "colab": {
          "base_uri": "https://localhost:8080/",
          "height": 297
        },
        "outputId": "56746663-4dad-4540-c030-428f779cbfe9"
      },
      "source": [
        "## ======== YOUR CODE HERE ======== ##\n",
        "\n",
        "## Use display labels as per your choice.\n",
        "\n",
        "confusion_matrix(y_train, svm_scaler.predict(X_train_scaled))\n",
        "plot_confusion_matrix(svm_scaler, X_test_scaled, y_test)\n",
        "\n",
        "\n",
        "## ================================ ##\n"
      ],
      "execution_count": 31,
      "outputs": [
        {
          "output_type": "execute_result",
          "data": {
            "text/plain": [
              "<sklearn.metrics._plot.confusion_matrix.ConfusionMatrixDisplay at 0x7f74ca25a050>"
            ]
          },
          "metadata": {},
          "execution_count": 31
        },
        {
          "output_type": "display_data",
          "data": {
            "image/png": "[encoded data removed]",
            "text/plain": [
              "<Figure size 432x288 with 2 Axes>"
            ]
          },
          "metadata": {
            "needs_background": "light"
          }
        }
      ]
    },
    {
      "cell_type": "markdown",
      "metadata": {
        "id": "TNWvmLSivpa6"
      },
      "source": [
        "<h1 style=\"background-color:#ABFF9B;font-size:20px;color:#00033E;font-weight : bold\">Print out Classification Report for SVM :</h1>"
      ]
    },
    {
      "cell_type": "code",
      "metadata": {
        "id": "yQDf6wOdvpa6",
        "colab": {
          "base_uri": "https://localhost:8080/"
        },
        "outputId": "7cf68e00-fafd-4fed-93e0-06557a0969d1"
      },
      "source": [
        "## ======== YOUR CODE HERE ======== ##\n",
        "\n",
        "\n",
        "print(classification_report(y_test, svm_scaler.predict(X_test_scaled)))\n",
        "\n",
        "\n",
        "## ================================ ##"
      ],
      "execution_count": 32,
      "outputs": [
        {
          "output_type": "stream",
          "name": "stdout",
          "text": [
            "              precision    recall  f1-score   support\n",
            "\n",
            "           0       0.80      0.81      0.80      3300\n",
            "           1       0.76      0.76      0.76      2749\n",
            "\n",
            "    accuracy                           0.78      6049\n",
            "   macro avg       0.78      0.78      0.78      6049\n",
            "weighted avg       0.78      0.78      0.78      6049\n",
            "\n"
          ]
        }
      ]
    },
    {
      "cell_type": "markdown",
      "metadata": {
        "id": "SfF49qwIvpa7"
      },
      "source": [
        "<h1 style=\"background-color:#ABFF9B;font-size:20px;color:#00033E;font-weight : bold\">Print out Accuracy score for SVM :</h1>"
      ]
    },
    {
      "cell_type": "code",
      "metadata": {
        "id": "lH1lkfsFvpa7",
        "colab": {
          "base_uri": "https://localhost:8080/"
        },
        "outputId": "db0555b0-dea0-4af6-8bc1-9c814caef32e"
      },
      "source": [
        "## ======== YOUR CODE HERE ======== ##\n",
        "\n",
        "accuracy_score(y_test, svm_scaler.predict(X_test_scaled))\n",
        "\n",
        "\n",
        "## ================================ ##"
      ],
      "execution_count": 33,
      "outputs": [
        {
          "output_type": "execute_result",
          "data": {
            "text/plain": [
              "0.7834352785584394"
            ]
          },
          "metadata": {},
          "execution_count": 33
        }
      ]
    },
    {
      "cell_type": "markdown",
      "metadata": {
        "id": "0tlgy05Jvpa7"
      },
      "source": [
        "<h1 style=\"background-color:#ABFF9B;font-size:20px;color:#00033E;font-weight : bold\">Print Training and Testing Score for SVM :</h1> "
      ]
    },
    {
      "cell_type": "code",
      "metadata": {
        "id": "yqofS78Xvpa7",
        "colab": {
          "base_uri": "https://localhost:8080/"
        },
        "outputId": "1db50f04-0d38-4e26-993a-6eaeead21244"
      },
      "source": [
        "## ======== YOUR CODE HERE ======== ##\n",
        "\n",
        "print(svm_scaler.score(X_train_scaled, y_train))\n",
        "print(svm_scaler.score(X_test_scaled, y_test))\n",
        "\n",
        "\n",
        "\n",
        "\n",
        "## ================================ ##"
      ],
      "execution_count": 34,
      "outputs": [
        {
          "output_type": "stream",
          "name": "stdout",
          "text": [
            "0.9291342921695046\n",
            "0.7834352785584394\n"
          ]
        }
      ]
    },
    {
      "cell_type": "markdown",
      "metadata": {
        "id": "Ti_PCgHpvpa7"
      },
      "source": [
        "<h1 style=\"background-color:#ABFF9B;font-size:20px;color:#00033E;font-weight : bold\">Plot ROC curve and calculate ROC - AUC score for SVM :</h1> "
      ]
    },
    {
      "cell_type": "code",
      "metadata": {
        "id": "iml9q7hrvpa8",
        "colab": {
          "base_uri": "https://localhost:8080/"
        },
        "outputId": "8909fc81-3e63-4d53-cde1-689a677bd8db"
      },
      "source": [
        "## ======== YOUR CODE HERE ======== ##\n",
        "\n",
        "## Print out ROC score for SVM\n",
        "roc_auc_score(y_test, svm_scaler.predict(X_test_scaled))\n",
        "\n",
        "\n",
        "## ================================ ##"
      ],
      "execution_count": 35,
      "outputs": [
        {
          "output_type": "execute_result",
          "data": {
            "text/plain": [
              "0.7811374384073547"
            ]
          },
          "metadata": {},
          "execution_count": 35
        }
      ]
    },
    {
      "cell_type": "code",
      "source": [
        "roc_curve(y_test, svm_scaler.predict(X_test_scaled))"
      ],
      "metadata": {
        "colab": {
          "base_uri": "https://localhost:8080/"
        },
        "id": "y12PZ0RZx_1i",
        "outputId": "a3d9eec3-1b76-4636-c49c-4820f288a07b"
      },
      "execution_count": null,
      "outputs": [
        {
          "output_type": "execute_result",
          "data": {
            "text/plain": [
              "(array([0.        , 0.19363636, 1.        ]),\n",
              " array([0.        , 0.75591124, 1.        ]),\n",
              " array([2, 1, 0]))"
            ]
          },
          "metadata": {},
          "execution_count": 73
        }
      ]
    },
    {
      "cell_type": "code",
      "metadata": {
        "id": "T_ninnLwvpa8"
      },
      "source": [
        "## ======== YOUR CODE HERE ======== ##\n",
        "\n",
        "## Print out ROC score for SVM\n",
        "\n",
        "\n",
        "## ================================ ##"
      ],
      "execution_count": null,
      "outputs": []
    },
    {
      "cell_type": "markdown",
      "metadata": {
        "id": "YmpeyKWWvpa8"
      },
      "source": [
        "<h1 style=\"background-color:#ABFF9B;font-size:20px;color:#00033E;font-weight : bold\">Train SVM with C = 1 and gamma = scale :</h1> "
      ]
    },
    {
      "cell_type": "code",
      "metadata": {
        "id": "z9mfbGb9vpa8",
        "colab": {
          "base_uri": "https://localhost:8080/"
        },
        "outputId": "57d8767c-f51c-47be-bf63-1842bde10021"
      },
      "source": [
        "## ======== YOUR CODE HERE ======== ##\n",
        "\n",
        "## Train SVM with new mentioned parameters\n",
        "svm_new = SVC(C=1, gamma='scale')\n",
        "svm_new.fit(X_train_scaled, y_train)\n",
        "\n",
        "\n",
        "## ================================ ##"
      ],
      "execution_count": 36,
      "outputs": [
        {
          "output_type": "execute_result",
          "data": {
            "text/plain": [
              "SVC(C=1)"
            ]
          },
          "metadata": {},
          "execution_count": 36
        }
      ]
    },
    {
      "cell_type": "markdown",
      "metadata": {
        "id": "pKOp4Cbyvpa9"
      },
      "source": [
        "<h1 style=\"background-color:#ABFF9B;font-size:20px;color:#00033E;font-weight : bold\">Print out Classification Report for new SVM :</h1>"
      ]
    },
    {
      "cell_type": "code",
      "metadata": {
        "id": "dPLlDBz0vpa9",
        "colab": {
          "base_uri": "https://localhost:8080/"
        },
        "outputId": "381f5d37-f772-40dd-ea33-3a2ca76298ab"
      },
      "source": [
        "## ======== YOUR CODE HERE ======== ##\n",
        "\n",
        "print(classification_report(y_test, svm_new.predict(X_test_scaled)))\n",
        "\n",
        "\n",
        "\n",
        "## ================================ ##"
      ],
      "execution_count": 37,
      "outputs": [
        {
          "output_type": "stream",
          "name": "stdout",
          "text": [
            "              precision    recall  f1-score   support\n",
            "\n",
            "           0       0.82      0.84      0.83      3300\n",
            "           1       0.80      0.78      0.79      2749\n",
            "\n",
            "    accuracy                           0.81      6049\n",
            "   macro avg       0.81      0.81      0.81      6049\n",
            "weighted avg       0.81      0.81      0.81      6049\n",
            "\n"
          ]
        }
      ]
    },
    {
      "cell_type": "markdown",
      "metadata": {
        "id": "c71VaRy9vpa9"
      },
      "source": [
        "<h1 style=\"background-color:#ABFF9B;font-size:20px;color:#00033E;font-weight : bold\">Plot ROC curve and calculate ROC - AUC score for the new SVM :</h1> "
      ]
    },
    {
      "cell_type": "code",
      "metadata": {
        "id": "iT8NNVKkvpa9",
        "colab": {
          "base_uri": "https://localhost:8080/"
        },
        "outputId": "35934fea-7bde-4449-c639-98f81f647ab9"
      },
      "source": [
        "## ======== YOUR CODE HERE ======== ##\n",
        "\n",
        "\n",
        "print(roc_auc_score(y_test, svm_new.predict(X_test_scaled)))\n",
        "\n",
        "## ================================ ##"
      ],
      "execution_count": 38,
      "outputs": [
        {
          "output_type": "stream",
          "name": "stdout",
          "text": [
            "0.8072020128531587\n"
          ]
        }
      ]
    },
    {
      "cell_type": "markdown",
      "metadata": {
        "id": "6tlhrJ8qvpa-"
      },
      "source": [
        "<h1 style=\"background-color:#ABFF9B;font-size:20px;color:#00033E;font-weight : bold\">Print Training and Testing Score along with accuracy score for the new SVM :</h1> "
      ]
    },
    {
      "cell_type": "code",
      "metadata": {
        "id": "AnydqRTQvpa-",
        "colab": {
          "base_uri": "https://localhost:8080/"
        },
        "outputId": "3081f559-a740-4f53-a996-616387012359"
      },
      "source": [
        "## ======== YOUR CODE HERE ======== ##\n",
        "print('Training score', svm_new.score(X_train_scaled, y_train))\n",
        "print('Testing Score', svm_new.score(X_test_scaled, y_test))\n",
        "## ================================ ##"
      ],
      "execution_count": 39,
      "outputs": [
        {
          "output_type": "stream",
          "name": "stdout",
          "text": [
            "Training score 0.8343527855843941\n",
            "Testing Score 0.8098859315589354\n"
          ]
        }
      ]
    },
    {
      "cell_type": "code",
      "metadata": {
        "id": "epvTM-Tcvpa-",
        "colab": {
          "base_uri": "https://localhost:8080/"
        },
        "outputId": "f1aefae7-29c8-44c3-f8f0-c24f84dde5a9"
      },
      "source": [
        "## ======== YOUR CODE HERE ======== ##\n",
        "\n",
        "## Print out Accuracy score for the new SVM\n",
        "\n",
        "\n",
        "print(accuracy_score(y_test, svm_new.predict(X_test_scaled)))\n",
        "\n",
        "## ================================ ##"
      ],
      "execution_count": 40,
      "outputs": [
        {
          "output_type": "stream",
          "name": "stdout",
          "text": [
            "0.8098859315589354\n"
          ]
        }
      ]
    },
    {
      "cell_type": "markdown",
      "metadata": {
        "id": "wwVQ1LTKvpa-"
      },
      "source": [
        "<h1 style=\"background-color:#ABFF9B;font-size:20px;color:#00033E;font-weight : bold\">Calculate Average Cross-Val score for the new SVM with 5 folds  :</h1> "
      ]
    },
    {
      "cell_type": "code",
      "metadata": {
        "id": "jC0bK5Fsvpa-",
        "colab": {
          "base_uri": "https://localhost:8080/"
        },
        "outputId": "e557cf4c-158c-4b09-ce42-f06e9a464282"
      },
      "source": [
        "## ======== YOUR CODE HERE ======== ##\n",
        "\n",
        "np.mean(cross_val_score(svm_new,X_train_scaled,y_train, cv=5))\n",
        "## Find mean for the calculated CV scores\n",
        "\n",
        "\n",
        "\n",
        "## ================================ ##"
      ],
      "execution_count": 42,
      "outputs": [
        {
          "output_type": "execute_result",
          "data": {
            "text/plain": [
              "0.8118148493122817"
            ]
          },
          "metadata": {},
          "execution_count": 42
        }
      ]
    },
    {
      "cell_type": "code",
      "source": [
        "np.mean(cross_val_score(svm_new,X_test_scaled,y_test, cv=5))"
      ],
      "metadata": {
        "colab": {
          "base_uri": "https://localhost:8080/"
        },
        "id": "8ojhgo09psUJ",
        "outputId": "ed991dc5-49b7-46c2-b3e6-40b55943cd19"
      },
      "execution_count": 43,
      "outputs": [
        {
          "output_type": "execute_result",
          "data": {
            "text/plain": [
              "0.7984814989507072"
            ]
          },
          "metadata": {},
          "execution_count": 43
        }
      ]
    },
    {
      "cell_type": "markdown",
      "metadata": {
        "id": "QxWC2wNLvpa-"
      },
      "source": [
        "<br>\n",
        "<h1 style = \"font-size:30px; font-family:Brush Script MT ; font-weight : bold; color : #0331A8; text-align: center; border-radius: 10px 10px;\">The End</h1>\n",
        "<br>"
      ]
    },
    {
      "cell_type": "code",
      "metadata": {
        "id": "_s1d-tV4vpa_"
      },
      "source": [
        ""
      ],
      "execution_count": null,
      "outputs": []
    }
  ]
}